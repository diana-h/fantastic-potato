{
 "cells": [
  {
   "cell_type": "markdown",
   "metadata": {},
   "source": [
    "# What is the best neighborhood to own a rental property in New York City?\n",
    "Diana H."
   ]
  },
  {
   "cell_type": "markdown",
   "metadata": {},
   "source": [
    "## Introduction\n",
    "\n",
    "For those looking to buy a rental property, deciding where to buy is a major concern. \n",
    "\n",
    "\"Best neighborhood\" to rent out a property can be quite subjective and defined in multiple ways. I would like to define it here as a 'hot' neighborhood with lots of growth in rental prices in this past year. In other words, among similar level neighborhoods, the best neighborhood of that cluster would be the one with highest year-on-year growth in rental prices.  \n",
    "\n",
    "A general approach:  \n",
    "Neighborhoods can be clustered into similar types of neighborhoods by certain features such as subway accessibility, number of grocery stores, and number of restaurants. In a given cluster of neighborhoods, a comparison of the neighborhood's median rental price and the year-on-year change in price can be made. Thus, each cluster's neighborhood with the highest rental price and also the neighborhood with the most growth in rental prices can be identified.  \n",
    "\n",
    "\n"
   ]
  },
  {
   "cell_type": "markdown",
   "metadata": {},
   "source": [
    "## Data\n",
    "\n",
    "**Neighborhood shapefile from zillow:**  \n",
    "https://www.zillowgroup.com/developers/api/public-data/neighborhood-boundaries/  \n",
    "These shapefiles will define the neighborhood polygon.\n",
    "\n",
    "**Neighborhood features to cluster on:**  \n",
    "1) Subway accessibility: Number of entrances/exits for the subway in each neighborhood as geodata points  \n",
    "https://data.cityofnewyork.us/api/geospatial/drex-xx56?method=export&format=GeoJSON  \n",
    "This dataset will provide coordinates of each subway entrance/exit. The number of entrances/exits in each neighborhood shapefile can be counted.\n",
    "\n",
    "2) Number of Grocery Store, Market, Organic grocery, Bakery, Butcher, Supermarket, Drugstore, Pharmacy in each neighborhood    \n",
    "Data from foursquare. All venues in a neighborhood can be found and narrowed down to the desired venue type.\n",
    "\n",
    "3) Number of restaurants in each neighborhood  \n",
    "Data from foursquare. All venues in a neighborhood can be found and narrowed down to the desired venue type.\n",
    "\n",
    "**Neighborhood rental price data:**  \n",
    "Median Asking price for all rental properties in each neighborhood downloaded from:\n",
    "https://streeteasy-market-data-download.s3.amazonaws.com/rentals/All/medianAskingRent_All.zip  \n",
    "This dataset contains the Median asking rent per month from 2010-01 to 2019-12 of each neighborhood."
   ]
  },
  {
   "cell_type": "markdown",
   "metadata": {},
   "source": [
    "## Methodology\n",
    "\n",
    "### Features of neighborhoods:\n",
    "\n",
    "My first aim was to obtain the features that I would use to classify neighborhoods. I expected that subway accessibility, number of nearby grocery stores/supermarkets, and number of restaurants in the neighborhood would be important characteristics that one would use to choose a neighborhood in NYC to live in.  \n",
    "Since I was only interested in Manhattan and Brooklyn boroughs, I narrowed down my datasets to just contain these two boroughs. \n",
    "\n",
    "#### Neighborhood subway exit counts\n",
    "Zillow neighborhood shapefiles were used to determine the neighborhood boundaries. Within these coordinates-linked shapes, the coordinate points of each NYC subway exits/entrances are plotted and counted. "
   ]
  },
  {
   "cell_type": "markdown",
   "metadata": {},
   "source": [
    "<img src=\"Exits_in_neighborhoods.png\" width=\"800\" />"
   ]
  },
  {
   "cell_type": "markdown",
   "metadata": {},
   "source": [
    "#### Neighborhood grocery store counts\n",
    "Using Foursquare API, I explored the venues (limited to 150 venues) within each neighborhood shapefile. To use the Foursquare API, the geometry of neighborhood shapefile had to be simplified and converted into a string that would be recognized by the Foursquare API (see code in github for details). Here is a header of the venue data:"
   ]
  },
  {
   "attachments": {},
   "cell_type": "markdown",
   "metadata": {},
   "source": [
    "<img src=\"NYC_venues.png\" width=\"800\" />"
   ]
  },
  {
   "cell_type": "markdown",
   "metadata": {},
   "source": [
    "The dataset was filtered by the venue category to just grocery store related venues such as 'Grocery Store', 'Market', 'Organic grocery', 'Bakery', 'Butcher', 'Supermarket', 'Drugstore', and 'Pharmacy'. One hot encoding was used to obtain it as count data and the counts were then grouped by neighborhood. A final total count was calculated. Here is a header of the dataset with the number of grocery stores in each neighborhood:"
   ]
  },
  {
   "attachments": {},
   "cell_type": "markdown",
   "metadata": {},
   "source": [
    "<img src=\"NYC_grocery.png\" width=\"600\" />"
   ]
  },
  {
   "cell_type": "markdown",
   "metadata": {},
   "source": [
    "#### Neighborhood restaurant counts\n",
    "The venue dataset was also filtered to venues that contain the word 'Restaurant'. One hot encoding was used again to obtain it as count data and grouped by neighborhood. A total count of restaurants was calculated.\n",
    "\n",
    "#### Dataframe of neighborhood features"
   ]
  },
  {
   "attachments": {},
   "cell_type": "markdown",
   "metadata": {},
   "source": [
    "<img src=\"NYC_features.png\" width=\"400\" />"
   ]
  },
  {
   "cell_type": "markdown",
   "metadata": {},
   "source": [
    "#### Neighborhood clustering method\n",
    "\n",
    "Neighborhood feature counts were normalized for magnitude and K-means clustering was used to cluster into 4 clusters by the density of grocery stores, subway exits, and restaurants. The optimal cluster of 4 was determined by the elbow method and silhouette method."
   ]
  },
  {
   "attachments": {},
   "cell_type": "markdown",
   "metadata": {},
   "source": [
    "<img src=\"Elbow_method.png\" width=\"400\" />\n",
    "<img src=\"Silhouette_method.png\" width=\"400\" />\n"
   ]
  },
  {
   "cell_type": "markdown",
   "metadata": {},
   "source": [
    "### Neighborhood rental prices:\n",
    "\n",
    "Median rental asking prices for each neighborhood was downloaded from streeteasy. Year-on-year change was calculated from the the difference between the September median asking rent between 2018 and 2019. Neighborhood names were matched with existing neighborhood categories. Below is a header of the rental price data:"
   ]
  },
  {
   "attachments": {},
   "cell_type": "markdown",
   "metadata": {},
   "source": [
    "<img src=\"NYC_rental_price.png\" width=\"400\" />"
   ]
  },
  {
   "cell_type": "markdown",
   "metadata": {},
   "source": [
    "### Merged df\n",
    "Final df of all parameters. Neighborhoods without any rental price data were dropped resulting in a final of 65 neighborhoods for data."
   ]
  },
  {
   "attachments": {},
   "cell_type": "markdown",
   "metadata": {},
   "source": [
    "<img src=\"NYC_merged.png\" width=\"800\" />"
   ]
  },
  {
   "cell_type": "markdown",
   "metadata": {},
   "source": [
    "## Results"
   ]
  },
  {
   "cell_type": "markdown",
   "metadata": {},
   "source": [
    "### Exploration of neighborhood clusters:\n",
    "\n",
    "Map of neighborhood clusters"
   ]
  },
  {
   "attachments": {},
   "cell_type": "markdown",
   "metadata": {},
   "source": [
    "<img src=\"NYC_map.png\" width=\"1000\" />"
   ]
  },
  {
   "cell_type": "markdown",
   "metadata": {},
   "source": [
    "Summary characteristics:\n",
    "\n",
    "| Cluster | Groceries| Subway  |Restaurants |\n",
    "| ------- |:--------:| -------:|-----------:|\n",
    "| 0       | High     | Low     | High       |\n",
    "| 1       | Low-Med  |Very low | Low-Med    |\n",
    "| 2       | Low-Med  |High     | Med-High   |\n",
    "| 3       | Low-Med  |Low      | High       |\n"
   ]
  },
  {
   "attachments": {},
   "cell_type": "markdown",
   "metadata": {},
   "source": [
    "Rental price of the neighborhoods in each cluster:\n",
    "<img src=\"Cluster_rent.png\" width=\"600\" />\n",
    "\n",
    "Year-on-year change of rental price of the neighborhoods in each cluster:\n",
    "<img src=\"Cluster_YoY.png\" width=\"600\" />"
   ]
  },
  {
   "attachments": {},
   "cell_type": "markdown",
   "metadata": {},
   "source": [
    "<img src=\"C0.png\" width=\"800\" />\n",
    "<img src=\"C1.png\" width=\"800\" />\n",
    "<img src=\"C2.png\" width=\"800\" />\n",
    "<img src=\"C3.png\" width=\"800\" />\n"
   ]
  },
  {
   "cell_type": "markdown",
   "metadata": {},
   "source": [
    "## Discussion\n",
    "\n",
    "Using the features of number of grocery stores, subway exits, and restaurants in each neighborhood, the neighborhoods cluster into four groups. The characteristics of each clusters are show in the results section. Interestingly, most neighborhoods have  low-medium levels of grocery stores and very low to low accessibility by subway. Restaurant density is generally quite high.  \n",
    "\n",
    "Depending on the type of neighborhood one would like to buy in, different neighborhoods stand out as good bets.\n",
    "\n",
    "In cluster type 0 with high levels of grocery stores and restaurants with low subway access, the median rental price is generally lower than the other clusters, signifying that these were relatively cheaper places to live. Among these neighborhoods, Chinatown is likely overpriced for rent, while Kensington had good rental price growth this past year.\n",
    "\n",
    "Cluster type 1 neighborhoods have low-medium levels of groceries and restaurants and very low subway accessibility. Compared to the other clusters, it appears as if these neighborhoods had the least amount of each of the features I identified. Gowanus has surprising amounts of growth in rental price and is likely a gentrifying neighborhood.\n",
    "\n",
    "Cluster type 2 neighborhoods are characterized by high subway accessibility and med-high number of restaurants. Among these neighborhoods, Williamsburg has strong growth in rental price compared to neighborhoods of the same median rental price.\n",
    "\n",
    "Cluster type 3 neighborhoods have a high number of restaurants and low subway accessibility. Most neighborhoods fall into this cluster. Little italy (Nolita), Greenwich Village, and Carroll Gardens all have strong rental price growth compared to similarly priced neighborhoods. "
   ]
  },
  {
   "cell_type": "markdown",
   "metadata": {},
   "source": [
    "## Conclusion\n",
    "\n",
    "In conclusion, looking at just the number of grocery stores, subway entrances/exits, and restaurants, Manhattan and Brooklyn neighborhoods can be clustered into four types of neighborhoods. From each of these types of neighborhoods, we can identify a few neighborhoods that have much higher rental price growth compared to its similar neighborhoods with similar median rental price. These neighborhoods are likely good places to invest in for a rental property. "
   ]
  },
  {
   "cell_type": "code",
   "execution_count": null,
   "metadata": {},
   "outputs": [],
   "source": []
  }
 ],
 "metadata": {
  "kernelspec": {
   "display_name": "geostuff",
   "language": "python",
   "name": "geostuff"
  },
  "language_info": {
   "codemirror_mode": {
    "name": "ipython",
    "version": 3
   },
   "file_extension": ".py",
   "mimetype": "text/x-python",
   "name": "python",
   "nbconvert_exporter": "python",
   "pygments_lexer": "ipython3",
   "version": "3.8.1"
  }
 },
 "nbformat": 4,
 "nbformat_minor": 4
}
