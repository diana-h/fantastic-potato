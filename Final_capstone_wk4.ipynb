{
 "cells": [
  {
   "cell_type": "markdown",
   "metadata": {},
   "source": [
    "### A description of the problem and a discussion of the background:\n",
    "\n",
    "#### The problem: What is the best neighborhood to own a rental property in New York City?  \n",
    "\n",
    "For those looking to buy a rental property, deciding where to buy is a major concern. \n",
    "\n",
    "\"Best neighborhood\" to rent out a property can be quite subjective and defined in multiple ways. I would like to define it here as a 'hot' neighborhood with lots of growth in rental prices in this past year. In other words, among similar level neighborhoods, the best neighborhood of that cluster would be the one with highest year-on-year growth in rental prices.  \n",
    "\n",
    "A general approach:  \n",
    "Neighborhoods can be clustered into similar types of neighborhoods by certain features such as subway accessibility, number of grocery stores, and number of restaurants. In a given cluster of neighborhoods, a comparison of the neighborhood's median rental price and the year-on-year change in price can be made. Thus, each cluster's neighborhood with the highest rental price and also the neighborhood with the most growth in rental prices can be identified.  \n",
    "\n",
    "\n",
    "#### A description of the data and how it will be used to solve the problem.\n",
    "\n",
    "**Neighborhood shapefile from zillow:**  \n",
    "https://www.zillowgroup.com/developers/api/public-data/neighborhood-boundaries/  \n",
    "These shapefiles will define the neighborhood polygon.\n",
    "\n",
    "**Neighborhood features to cluster on:**  \n",
    "1) Subway accessibility: Number of entrances/exits for the subway in each neighborhood as geodata points  \n",
    "https://data.cityofnewyork.us/api/geospatial/drex-xx56?method=export&format=GeoJSON  \n",
    "This dataset will provide coordinates of each subway entrance/exit. The number of entrances/exits in each neighborhood shapefile can be counted.\n",
    "\n",
    "2) Number of Grocery Store, Market, Organic grocery, Bakery, Butcher, Supermarket, Drugstore, Pharmacy in each neighborhood    \n",
    "Data from foursquare. All venues in a neighborhood can be found and narrowed down to the desired venue type.\n",
    "\n",
    "3) Number of restaurants in each neighborhood  \n",
    "Data from foursquare. All venues in a neighborhood can be found and narrowed down to the desired venue type.\n",
    "\n",
    "**Neighborhood rental price data:**  \n",
    "Median Asking price for all rental properties in each neighborhood downloaded from:\n",
    "https://streeteasy-market-data-download.s3.amazonaws.com/rentals/All/medianAskingRent_All.zip  \n",
    "This dataset contains the Median asking rent per month from 2010-01 to 2019-12 of each neighborhood."
   ]
  },
  {
   "cell_type": "code",
   "execution_count": null,
   "metadata": {},
   "outputs": [],
   "source": []
  }
 ],
 "metadata": {
  "kernelspec": {
   "display_name": "Python 3",
   "language": "python",
   "name": "python3"
  },
  "language_info": {
   "codemirror_mode": {
    "name": "ipython",
    "version": 3
   },
   "file_extension": ".py",
   "mimetype": "text/x-python",
   "name": "python",
   "nbconvert_exporter": "python",
   "pygments_lexer": "ipython3",
   "version": "3.6.9"
  }
 },
 "nbformat": 4,
 "nbformat_minor": 4
}
